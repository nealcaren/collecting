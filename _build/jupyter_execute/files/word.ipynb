{
 "cells": [
  {
   "cell_type": "markdown",
   "metadata": {
    "slideshow": {
     "slide_type": "slide"
    }
   },
   "source": [
    "# Word Documents"
   ]
  },
  {
   "cell_type": "markdown",
   "metadata": {
    "slideshow": {
     "slide_type": "slide"
    }
   },
   "source": [
    "The best package for reading the contents of modern Word documents (i.e,. files with a  docx exctension) is `docx2txt`. It returns the full text, stripping out all formatting information. \n",
    "\n",
    "To install (from within a notebook):\n",
    "~~~~\n",
    "    %conda install -c conda-forge docx2txt\n",
    "~~~~"
   ]
  },
  {
   "cell_type": "code",
   "execution_count": 1,
   "metadata": {
    "slideshow": {
     "slide_type": "slide"
    }
   },
   "outputs": [],
   "source": [
    "import docx2txt"
   ]
  },
  {
   "cell_type": "code",
   "execution_count": 2,
   "metadata": {
    "slideshow": {
     "slide_type": "slide"
    }
   },
   "outputs": [],
   "source": [
    "text = docx2txt.process('../data/pandas_wiki.docx')"
   ]
  },
  {
   "cell_type": "code",
   "execution_count": 3,
   "metadata": {
    "slideshow": {
     "slide_type": "slide"
    }
   },
   "outputs": [
    {
     "data": {
      "text/plain": [
       "'In\\xa0computer programming,\\xa0pandas\\xa0is a\\xa0software library\\xa0written for the\\xa0Python programming language\\xa0for data manipulation and analysis. In particular, it offers data structures and operations for manipulating numerical tables and\\xa0time series. It is\\xa0free software\\xa0released under the\\xa0three-clause BSD license.\\xa0The name is derived from the term \"panel data\", an\\xa0econometrics\\xa0term for data sets that include observations over multiple time periods for the same individuals.\\n\\n\\n\\nLibrary features\\n\\nDataFrame object for data manipulation with integrated indexing.\\n\\nTools for reading and writing data between in-memory data structures and different file formats.\\n\\nData alignment and integrated handling of missing data.\\n\\nReshaping and pivoting of data sets.\\n\\nLabel-based slicing, fancy indexing, and subsetting of large data sets.\\n\\nData structure column insertion and deletion.\\n\\nGroup by engine allowing split-apply-combine operations on data sets.\\n\\nData set merging and joining.\\n\\nHierarchical axis indexing to work with high-dimensional data in a lower-dimensional data structure.\\n\\nTime series-functionality: Date range generation[3]\\xa0and frequency conversion, moving window statistics, moving window linear regressions, date shifting and lagging.\\n\\nThe library is highly optimized for performance, with critical code paths written in\\xa0Cython\\xa0or\\xa0C.'"
      ]
     },
     "execution_count": 3,
     "metadata": {},
     "output_type": "execute_result"
    }
   ],
   "source": [
    "text"
   ]
  },
  {
   "cell_type": "code",
   "execution_count": 4,
   "metadata": {
    "slideshow": {
     "slide_type": "slide"
    }
   },
   "outputs": [
    {
     "name": "stdout",
     "output_type": "stream",
     "text": [
      "In computer programming, pandas is a software library written for the Python programming language for data manipulation and analysis. In particular, it offers data structures and operations for manipulating numerical tables and time series. It is free software released under the three-clause BSD license. The name is derived from the term \"panel data\", an econometrics term for data sets that include observations over multiple time periods for the same individuals.\n",
      "\n",
      "\n",
      "\n",
      "Library features\n",
      "\n",
      "DataFrame object for data manipulation with integrated indexing.\n",
      "\n",
      "Tools for reading and writing data between in-memory data structures and different file formats.\n",
      "\n",
      "Data alignment and integrated handling of missing data.\n",
      "\n",
      "Reshaping and pivoting of data sets.\n",
      "\n",
      "Label-based slicing, fancy indexing, and subsetting of large data sets.\n",
      "\n",
      "Data structure column insertion and deletion.\n",
      "\n",
      "Group by engine allowing split-apply-combine operations on data sets.\n",
      "\n",
      "Data set merging and joining.\n",
      "\n",
      "Hierarchical axis indexing to work with high-dimensional data in a lower-dimensional data structure.\n",
      "\n",
      "Time series-functionality: Date range generation[3] and frequency conversion, moving window statistics, moving window linear regressions, date shifting and lagging.\n",
      "\n",
      "The library is highly optimized for performance, with critical code paths written in Cython or C.\n"
     ]
    }
   ],
   "source": [
    "print(text)"
   ]
  },
  {
   "cell_type": "code",
   "execution_count": null,
   "metadata": {},
   "outputs": [],
   "source": []
  }
 ],
 "metadata": {
  "kernelspec": {
   "display_name": "Python 3",
   "language": "python",
   "name": "python3"
  },
  "language_info": {
   "codemirror_mode": {
    "name": "ipython",
    "version": 3
   },
   "file_extension": ".py",
   "mimetype": "text/x-python",
   "name": "python",
   "nbconvert_exporter": "python",
   "pygments_lexer": "ipython3",
   "version": "3.8.6"
  }
 },
 "nbformat": 4,
 "nbformat_minor": 2
}